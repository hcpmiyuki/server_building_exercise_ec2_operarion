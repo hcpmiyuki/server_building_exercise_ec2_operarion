{
 "nbformat": 4,
 "nbformat_minor": 2,
 "metadata": {
  "language_info": {
   "name": "python",
   "codemirror_mode": {
    "name": "ipython",
    "version": 3
   },
   "version": "3.7.3-final"
  },
  "orig_nbformat": 2,
  "file_extension": ".py",
  "mimetype": "text/x-python",
  "name": "python",
  "npconvert_exporter": "python",
  "pygments_lexer": "ipython3",
  "version": 3,
  "kernelspec": {
   "name": "var_venv",
   "display_name": "var_venv"
  }
 },
 "cells": [
  {
   "cell_type": "code",
   "execution_count": 10,
   "metadata": {},
   "outputs": [],
   "source": [
    "import settings\n",
    "import boto3\n",
    "from logging import getLogger\n",
    "import pickle\n",
    "\n",
    "logger = getLogger(__name__)"
   ]
  },
  {
   "cell_type": "code",
   "execution_count": 5,
   "metadata": {},
   "outputs": [],
   "source": [
    "ec2 = boto3.resource('ec2')"
   ]
  },
  {
   "cell_type": "code",
   "execution_count": 6,
   "metadata": {},
   "outputs": [],
   "source": [
    "IMAGE_ID = 'ami-0ce727dd9e7ed7a47'\n",
    "MAX_COUNT = 3\n",
    "MIN_COUNT = 3\n",
    "INSTANCE_TYPE = 't2.micro'\n",
    "\n",
    "instances = ec2.create_instances(\n",
    "    ImageId=IMAGE_ID,\n",
    "    InstanceType=INSTANCE_TYPE,\n",
    "    MaxCount=MAX_COUNT,\n",
    "    MinCount=MIN_COUNT\n",
    ")"
   ]
  },
  {
   "cell_type": "code",
   "execution_count": 7,
   "metadata": {},
   "outputs": [
    {
     "data": {
      "text/plain": "[ec2.Instance(id='i-0a95bfc0c19204945'),\n ec2.Instance(id='i-0fa46f340b507ce8c'),\n ec2.Instance(id='i-08c0a73cb1770dabc')]"
     },
     "execution_count": 7,
     "metadata": {},
     "output_type": "execute_result"
    }
   ],
   "source": [
    "for instance in instances:\n",
    "    print('Starting instance:{}...'.format(instance_id))\n",
    "    instance.wait_until_running()\n",
    "    "
   ]
  },
  {
   "cell_type": "code",
   "execution_count": 8,
   "metadata": {},
   "outputs": [],
   "source": [
    "instances[0].wait_until_running()"
   ]
  },
  {
   "cell_type": "code",
   "execution_count": 11,
   "metadata": {},
   "outputs": [
    {
     "data": {
      "text/plain": "'i-0a95bfc0c19204945'"
     },
     "execution_count": 11,
     "metadata": {},
     "output_type": "execute_result"
    }
   ],
   "source": [
    "instances[0].id"
   ]
  },
  {
   "cell_type": "code",
   "execution_count": 12,
   "metadata": {},
   "outputs": [
    {
     "name": "stdout",
     "output_type": "stream",
     "text": "Stopping instance: i-0a95bfc0c19204945.\nStopping instance: i-0a95bfc0c19204945 is complete.\nStopping instance: i-0fa46f340b507ce8c.\nStopping instance: i-0fa46f340b507ce8c is complete.\nStopping instance: i-08c0a73cb1770dabc.\nStopping instance: i-08c0a73cb1770dabc is complete.\n"
    }
   ],
   "source": [
    "for instance in instances:\n",
    "    instance_id = instance.id\n",
    "    instance.terminate()\n",
    "    print('Stopping instance:{}...'.format(instance_id))\n",
    "    instance.wait_until_terminated()\n",
    "    print('Stopping instance:{} is complete.'.format(instance_id))"
   ]
  },
  {
   "cell_type": "code",
   "execution_count": null,
   "metadata": {},
   "outputs": [],
   "source": []
  }
 ]
}